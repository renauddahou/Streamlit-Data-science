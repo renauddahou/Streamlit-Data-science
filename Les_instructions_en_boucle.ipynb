{
  "nbformat": 4,
  "nbformat_minor": 0,
  "metadata": {
    "colab": {
      "name": " Les instructions en boucle.ipynb",
      "provenance": [],
      "collapsed_sections": [],
      "authorship_tag": "ABX9TyML2jv5J3Oco6zP/txcWAAB",
      "include_colab_link": true
    },
    "kernelspec": {
      "display_name": "Python 3",
      "name": "python3"
    },
    "language_info": {
      "name": "python"
    }
  },
  "cells": [
    {
      "cell_type": "markdown",
      "metadata": {
        "id": "view-in-github",
        "colab_type": "text"
      },
      "source": [
        "<a href=\"https://colab.research.google.com/github/renauddahou/Streamlit-Data-science/blob/main/Les_instructions_en_boucle.ipynb\" target=\"_parent\"><img src=\"https://colab.research.google.com/assets/colab-badge.svg\" alt=\"Open In Colab\"/></a>"
      ]
    },
    {
      "cell_type": "code",
      "metadata": {
        "colab": {
          "base_uri": "https://localhost:8080/"
        },
        "id": "4NsNzmsu3et-",
        "outputId": "a81cc3d6-7254-4b47-f500-56e59e12d56c"
      },
      "source": [
        "# importer google drive\n",
        "from google.colab import drive\n",
        "drive.mount('/content/drive')"
      ],
      "execution_count": null,
      "outputs": [
        {
          "output_type": "stream",
          "text": [
            "Mounted at /content/drive\n"
          ],
          "name": "stdout"
        }
      ]
    },
    {
      "cell_type": "code",
      "metadata": {
        "id": "mY6ysr8G34L8"
      },
      "source": [
        "# importer le répertoire de travail\n",
        "import os\n",
        "os.chdir('/content/drive/My Drive/formation')"
      ],
      "execution_count": null,
      "outputs": []
    },
    {
      "cell_type": "code",
      "metadata": {
        "id": "Jnd1t1rL459i"
      },
      "source": [
        "#consulter le contenu d'un répertoire\n",
        "!ls"
      ],
      "execution_count": null,
      "outputs": []
    },
    {
      "cell_type": "markdown",
      "metadata": {
        "id": "XdoK_n25B6e8"
      },
      "source": [
        "Les instructions en boucle « while… »"
      ]
    },
    {
      "cell_type": "code",
      "metadata": {
        "colab": {
          "base_uri": "https://localhost:8080/"
        },
        "id": "0Y3hCj4d9_Lv",
        "outputId": "ae2290e7-eb24-4bc7-f1f2-2f54f05fa348"
      },
      "source": [
        "x=1\n",
        "while (x<10):\n",
        "  print(\"la valeur de x est \",x)\n",
        "  x=x+1"
      ],
      "execution_count": null,
      "outputs": [
        {
          "output_type": "stream",
          "text": [
            "la valeur de x est  1\n",
            "la valeur de x est  2\n",
            "la valeur de x est  3\n",
            "la valeur de x est  4\n",
            "la valeur de x est  5\n",
            "la valeur de x est  6\n",
            "la valeur de x est  7\n",
            "la valeur de x est  8\n",
            "la valeur de x est  9\n"
          ],
          "name": "stdout"
        }
      ]
    },
    {
      "cell_type": "code",
      "metadata": {
        "colab": {
          "base_uri": "https://localhost:8080/"
        },
        "id": "wjKLZhih-Jzw",
        "outputId": "2fead7fe-89f9-4841-d520-7b1ecb740f59"
      },
      "source": [
        "for i in range(1,11):\n",
        "  print(i)"
      ],
      "execution_count": null,
      "outputs": [
        {
          "output_type": "stream",
          "text": [
            "1\n",
            "2\n",
            "3\n",
            "4\n",
            "5\n",
            "6\n",
            "7\n",
            "8\n",
            "9\n",
            "10\n"
          ],
          "name": "stdout"
        }
      ]
    },
    {
      "cell_type": "code",
      "metadata": {
        "colab": {
          "base_uri": "https://localhost:8080/"
        },
        "id": "EJ58CMEy_STS",
        "outputId": "bdeab3ec-0acf-4199-aa35-34c50bf4e0e1"
      },
      "source": [
        "for i in [1,2,3,4,5,6,7,8,9,10]:\n",
        "  print(i)"
      ],
      "execution_count": null,
      "outputs": [
        {
          "output_type": "stream",
          "text": [
            "1\n",
            "2\n",
            "3\n",
            "4\n",
            "5\n",
            "6\n",
            "7\n",
            "8\n",
            "9\n",
            "10\n"
          ],
          "name": "stdout"
        }
      ]
    },
    {
      "cell_type": "code",
      "metadata": {
        "colab": {
          "base_uri": "https://localhost:8080/"
        },
        "id": "moVDAtff_38f",
        "outputId": "e14d2e8d-7efc-4144-a9ca-810041a4a23e"
      },
      "source": [
        "a=\"bonjour\"\n",
        "for i in a:\n",
        "  print(i)"
      ],
      "execution_count": null,
      "outputs": [
        {
          "output_type": "stream",
          "text": [
            "b\n",
            "o\n",
            "n\n",
            "j\n",
            "o\n",
            "u\n",
            "r\n"
          ],
          "name": "stdout"
        }
      ]
    },
    {
      "cell_type": "code",
      "metadata": {
        "colab": {
          "base_uri": "https://localhost:8080/"
        },
        "id": "yMNmxqxAARM2",
        "outputId": "83709f8d-2b1e-4bee-8fd0-897925f63cbc"
      },
      "source": [
        "a=[4,5,6]\n",
        "for i in a:\n",
        "  if i==5:\n",
        "    print(\"la condition est vérifié\",i)\n",
        "  else:\n",
        "    print(\"la condition n'est pas vérifié\",i)"
      ],
      "execution_count": null,
      "outputs": [
        {
          "output_type": "stream",
          "text": [
            "la condition n'est pas vérifié 4\n",
            "la condition est vérifié 5\n",
            "la condition n'est pas vérifié 6\n"
          ],
          "name": "stdout"
        }
      ]
    }
  ]
}