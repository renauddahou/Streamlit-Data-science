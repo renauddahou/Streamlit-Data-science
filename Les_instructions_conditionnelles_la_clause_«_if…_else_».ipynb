{
  "nbformat": 4,
  "nbformat_minor": 0,
  "metadata": {
    "colab": {
      "name": "Les instructions conditionnelles : la clause « if… else ».ipynb",
      "provenance": [],
      "collapsed_sections": [],
      "authorship_tag": "ABX9TyNHsrWuFH2NRNJH1elsFXyv",
      "include_colab_link": true
    },
    "kernelspec": {
      "name": "python3",
      "display_name": "Python 3"
    },
    "language_info": {
      "name": "python"
    }
  },
  "cells": [
    {
      "cell_type": "markdown",
      "metadata": {
        "id": "view-in-github",
        "colab_type": "text"
      },
      "source": [
        "<a href=\"https://colab.research.google.com/github/renauddahou/Streamlit-Data-science/blob/main/Les_instructions_conditionnelles_la_clause_%C2%AB_if%E2%80%A6_else_%C2%BB.ipynb\" target=\"_parent\"><img src=\"https://colab.research.google.com/assets/colab-badge.svg\" alt=\"Open In Colab\"/></a>"
      ]
    },
    {
      "cell_type": "code",
      "metadata": {
        "colab": {
          "base_uri": "https://localhost:8080/"
        },
        "id": "4NsNzmsu3et-",
        "outputId": "a81cc3d6-7254-4b47-f500-56e59e12d56c"
      },
      "source": [
        "# importer google drive\n",
        "from google.colab import drive\n",
        "drive.mount('/content/drive')"
      ],
      "execution_count": null,
      "outputs": [
        {
          "output_type": "stream",
          "text": [
            "Mounted at /content/drive\n"
          ],
          "name": "stdout"
        }
      ]
    },
    {
      "cell_type": "code",
      "metadata": {
        "id": "mY6ysr8G34L8"
      },
      "source": [
        "# importer le répertoire de travail\n",
        "import os\n",
        "os.chdir('/content/drive/My Drive/formation')"
      ],
      "execution_count": null,
      "outputs": []
    },
    {
      "cell_type": "code",
      "metadata": {
        "id": "Jnd1t1rL459i"
      },
      "source": [
        "#consulter le contenu d'un répertoire\n",
        "!ls"
      ],
      "execution_count": null,
      "outputs": []
    },
    {
      "cell_type": "code",
      "metadata": {
        "colab": {
          "base_uri": "https://localhost:8080/"
        },
        "id": "fVdS_po21Dni",
        "outputId": "f19f4649-a420-473d-d72f-ceb9c1fcbe0c"
      },
      "source": [
        "x=150\n",
        "if x>100:\n",
        "  print(\"x dépasse 100\")"
      ],
      "execution_count": null,
      "outputs": [
        {
          "output_type": "stream",
          "text": [
            "x dépasse 100\n"
          ],
          "name": "stdout"
        }
      ]
    },
    {
      "cell_type": "code",
      "metadata": {
        "colab": {
          "base_uri": "https://localhost:8080/"
        },
        "id": "dvhDssUa2Hkf",
        "outputId": "0790acc3-fda2-4c83-85a3-c30468b0bdaf"
      },
      "source": [
        "x=150\n",
        "if x>100:\n",
        "  print(\"x dépasse 100\")\n",
        "\n",
        "else:\n",
        "  print(\"x ne dépasse pas 100\")"
      ],
      "execution_count": null,
      "outputs": [
        {
          "output_type": "stream",
          "text": [
            "x dépasse 100\n"
          ],
          "name": "stdout"
        }
      ]
    },
    {
      "cell_type": "code",
      "metadata": {
        "colab": {
          "base_uri": "https://localhost:8080/"
        },
        "id": "8LNxGllw2_jq",
        "outputId": "b8c1c998-0a01-4866-b6bb-d3a877eff524"
      },
      "source": [
        "x=0\n",
        "if x>0:\n",
        "  print(\"x est positif\")\n",
        "\n",
        "elif x<0:\n",
        "  print(\"x est négatif\")\n",
        "\n",
        "else:\n",
        "  print(\"x est nul\")"
      ],
      "execution_count": null,
      "outputs": [
        {
          "output_type": "stream",
          "text": [
            "x est nul\n"
          ],
          "name": "stdout"
        }
      ]
    }
  ]
}